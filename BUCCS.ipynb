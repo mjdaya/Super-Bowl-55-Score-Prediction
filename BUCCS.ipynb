{
 "cells": [
  {
   "cell_type": "code",
   "execution_count": 1,
   "metadata": {},
   "outputs": [],
   "source": [
    "import pandas as pd\n",
    "import numpy as np\n",
    "from sklearn.linear_model import LinearRegression\n",
    "import seaborn as sns\n",
    "from matplotlib import pyplot as plt\n",
    "import statsmodels.api as sm\n",
    "from mlxtend.plotting import plot_sequential_feature_selection as plot_sfs\n",
    "\n",
    "\n",
    "import pandas as pd\n",
    "import matplotlib.pyplot as plt\n",
    "from statsmodels.tsa.holtwinters import SimpleExpSmoothing\n",
    "import numpy as np\n",
    "\n",
    "from sklearn.metrics import r2_score \n",
    "\n",
    "from sklearn.model_selection import train_test_split\n"
   ]
  },
  {
   "cell_type": "markdown",
   "metadata": {},
   "source": [
    "## Data Cleaning and Processing"
   ]
  },
  {
   "cell_type": "code",
   "execution_count": 29,
   "metadata": {},
   "outputs": [
    {
     "data": {
      "text/plain": [
       "(51, 18)"
      ]
     },
     "execution_count": 29,
     "metadata": {},
     "output_type": "execute_result"
    }
   ],
   "source": [
    "buccs = pd.read_csv(\"BuccsDataComplete.csv\")\n",
    "buccs.drop(buccs.tail(1).index,inplace=True)\n",
    "\n",
    "buccs.shape"
   ]
  },
  {
   "cell_type": "code",
   "execution_count": 30,
   "metadata": {},
   "outputs": [
    {
     "data": {
      "text/plain": [
       "TeamScore         0\n",
       "Week              0\n",
       "OppScore          0\n",
       "1stD Offense      0\n",
       "TotYd  Offense    0\n",
       "PassY Offense     0\n",
       "RushY Offense     0\n",
       "TO Offense        0\n",
       "1stD Defense      0\n",
       "TotYd Defense     0\n",
       "PassY Defense     0\n",
       "RushY Defense     0\n",
       "TO Defense        0\n",
       "Offense           0\n",
       "Defense           0\n",
       "Sp. Tms           0\n",
       "Season            0\n",
       "Game              0\n",
       "dtype: int64"
      ]
     },
     "execution_count": 30,
     "metadata": {},
     "output_type": "execute_result"
    }
   ],
   "source": [
    "# check for nulls\n",
    "buccs.isnull().sum()"
   ]
  },
  {
   "cell_type": "markdown",
   "metadata": {},
   "source": [
    "## Feature Selection (1)"
   ]
  },
  {
   "cell_type": "code",
   "execution_count": 35,
   "metadata": {},
   "outputs": [
    {
     "data": {
      "text/plain": [
       "(51, 15)"
      ]
     },
     "execution_count": 35,
     "metadata": {},
     "output_type": "execute_result"
    }
   ],
   "source": [
    "X = buccs.iloc[:,2:17]\n",
    "y = buccs.TeamScore\n",
    "X.shape"
   ]
  },
  {
   "cell_type": "code",
   "execution_count": 34,
   "metadata": {},
   "outputs": [
    {
     "data": {
      "text/html": [
       "<div>\n",
       "<style scoped>\n",
       "    .dataframe tbody tr th:only-of-type {\n",
       "        vertical-align: middle;\n",
       "    }\n",
       "\n",
       "    .dataframe tbody tr th {\n",
       "        vertical-align: top;\n",
       "    }\n",
       "\n",
       "    .dataframe thead th {\n",
       "        text-align: right;\n",
       "    }\n",
       "</style>\n",
       "<table border=\"1\" class=\"dataframe\">\n",
       "  <thead>\n",
       "    <tr style=\"text-align: right;\">\n",
       "      <th></th>\n",
       "      <th>OppScore</th>\n",
       "      <th>1stD Offense</th>\n",
       "      <th>TotYd  Offense</th>\n",
       "      <th>PassY Offense</th>\n",
       "      <th>RushY Offense</th>\n",
       "      <th>TO Offense</th>\n",
       "      <th>1stD Defense</th>\n",
       "      <th>TotYd Defense</th>\n",
       "      <th>PassY Defense</th>\n",
       "      <th>RushY Defense</th>\n",
       "      <th>TO Defense</th>\n",
       "      <th>Offense</th>\n",
       "      <th>Defense</th>\n",
       "      <th>Sp. Tms</th>\n",
       "      <th>Season</th>\n",
       "    </tr>\n",
       "  </thead>\n",
       "  <tbody>\n",
       "    <tr>\n",
       "      <th>0</th>\n",
       "      <td>40.0</td>\n",
       "      <td>26.0</td>\n",
       "      <td>529.0</td>\n",
       "      <td>417.0</td>\n",
       "      <td>112.0</td>\n",
       "      <td>0.0</td>\n",
       "      <td>26.0</td>\n",
       "      <td>475.0</td>\n",
       "      <td>432.0</td>\n",
       "      <td>43.0</td>\n",
       "      <td>2.0</td>\n",
       "      <td>29.69</td>\n",
       "      <td>-19.83</td>\n",
       "      <td>-4.90</td>\n",
       "      <td>2018.0</td>\n",
       "    </tr>\n",
       "    <tr>\n",
       "      <th>1</th>\n",
       "      <td>21.0</td>\n",
       "      <td>18.0</td>\n",
       "      <td>436.0</td>\n",
       "      <td>393.0</td>\n",
       "      <td>43.0</td>\n",
       "      <td>2.0</td>\n",
       "      <td>24.0</td>\n",
       "      <td>412.0</td>\n",
       "      <td>321.0</td>\n",
       "      <td>91.0</td>\n",
       "      <td>2.0</td>\n",
       "      <td>10.11</td>\n",
       "      <td>-5.14</td>\n",
       "      <td>1.42</td>\n",
       "      <td>2018.0</td>\n",
       "    </tr>\n",
       "    <tr>\n",
       "      <th>2</th>\n",
       "      <td>30.0</td>\n",
       "      <td>28.0</td>\n",
       "      <td>455.0</td>\n",
       "      <td>392.0</td>\n",
       "      <td>63.0</td>\n",
       "      <td>4.0</td>\n",
       "      <td>22.0</td>\n",
       "      <td>413.0</td>\n",
       "      <td>335.0</td>\n",
       "      <td>78.0</td>\n",
       "      <td>1.0</td>\n",
       "      <td>3.18</td>\n",
       "      <td>-9.86</td>\n",
       "      <td>2.73</td>\n",
       "      <td>2018.0</td>\n",
       "    </tr>\n",
       "    <tr>\n",
       "      <th>3</th>\n",
       "      <td>48.0</td>\n",
       "      <td>16.0</td>\n",
       "      <td>311.0</td>\n",
       "      <td>251.0</td>\n",
       "      <td>60.0</td>\n",
       "      <td>3.0</td>\n",
       "      <td>28.0</td>\n",
       "      <td>483.0</td>\n",
       "      <td>344.0</td>\n",
       "      <td>139.0</td>\n",
       "      <td>0.0</td>\n",
       "      <td>-5.14</td>\n",
       "      <td>-33.53</td>\n",
       "      <td>0.24</td>\n",
       "      <td>2018.0</td>\n",
       "    </tr>\n",
       "    <tr>\n",
       "      <th>4</th>\n",
       "      <td>34.0</td>\n",
       "      <td>30.0</td>\n",
       "      <td>510.0</td>\n",
       "      <td>389.0</td>\n",
       "      <td>121.0</td>\n",
       "      <td>2.0</td>\n",
       "      <td>26.0</td>\n",
       "      <td>417.0</td>\n",
       "      <td>347.0</td>\n",
       "      <td>70.0</td>\n",
       "      <td>0.0</td>\n",
       "      <td>22.99</td>\n",
       "      <td>-21.03</td>\n",
       "      <td>-2.24</td>\n",
       "      <td>2018.0</td>\n",
       "    </tr>\n",
       "  </tbody>\n",
       "</table>\n",
       "</div>"
      ],
      "text/plain": [
       "   OppScore  1stD Offense  TotYd  Offense  PassY Offense  RushY Offense  \\\n",
       "0      40.0          26.0           529.0          417.0          112.0   \n",
       "1      21.0          18.0           436.0          393.0           43.0   \n",
       "2      30.0          28.0           455.0          392.0           63.0   \n",
       "3      48.0          16.0           311.0          251.0           60.0   \n",
       "4      34.0          30.0           510.0          389.0          121.0   \n",
       "\n",
       "   TO Offense  1stD Defense  TotYd Defense  PassY Defense  RushY Defense  \\\n",
       "0         0.0          26.0          475.0          432.0           43.0   \n",
       "1         2.0          24.0          412.0          321.0           91.0   \n",
       "2         4.0          22.0          413.0          335.0           78.0   \n",
       "3         3.0          28.0          483.0          344.0          139.0   \n",
       "4         2.0          26.0          417.0          347.0           70.0   \n",
       "\n",
       "   TO Defense  Offense  Defense  Sp. Tms  Season  \n",
       "0         2.0    29.69   -19.83    -4.90  2018.0  \n",
       "1         2.0    10.11    -5.14     1.42  2018.0  \n",
       "2         1.0     3.18    -9.86     2.73  2018.0  \n",
       "3         0.0    -5.14   -33.53     0.24  2018.0  \n",
       "4         0.0    22.99   -21.03    -2.24  2018.0  "
      ]
     },
     "execution_count": 34,
     "metadata": {},
     "output_type": "execute_result"
    }
   ],
   "source": [
    "X.head()"
   ]
  },
  {
   "cell_type": "code",
   "execution_count": 36,
   "metadata": {},
   "outputs": [],
   "source": [
    "from mlxtend.feature_selection import SequentialFeatureSelector as sfs\n",
    "\n",
    "clf = LinearRegression()\n",
    "\n",
    "# Build step forward feature selection\n",
    "sfs1 = sfs(clf,k_features = 15,forward=True,floating=False,scoring='neg_mean_squared_error',cv=5)\n",
    "\n",
    "# Perform SFFS\n",
    "sfs1 = sfs1.fit(X, y)\n",
    "\n",
    "\n"
   ]
  },
  {
   "cell_type": "code",
   "execution_count": 37,
   "metadata": {},
   "outputs": [],
   "source": [
    "#sfs1.subsets_\n"
   ]
  },
  {
   "cell_type": "code",
   "execution_count": 38,
   "metadata": {},
   "outputs": [
    {
     "data": {
      "text/plain": [
       "('OppScore',\n",
       " '1stD Offense',\n",
       " 'TotYd  Offense',\n",
       " 'PassY Offense',\n",
       " 'RushY Offense',\n",
       " 'TO Offense',\n",
       " '1stD Defense',\n",
       " 'TotYd Defense',\n",
       " 'PassY Defense',\n",
       " 'RushY Defense',\n",
       " 'TO Defense',\n",
       " 'Offense',\n",
       " 'Defense',\n",
       " 'Sp. Tms',\n",
       " 'Season')"
      ]
     },
     "execution_count": 38,
     "metadata": {},
     "output_type": "execute_result"
    }
   ],
   "source": [
    "sfs1.k_feature_names_\n"
   ]
  },
  {
   "cell_type": "code",
   "execution_count": 39,
   "metadata": {},
   "outputs": [],
   "source": [
    "#from mlxtend.plotting import plot_sequential_feature_selection as plot_sfs\n",
    "#import matplotlib.pyplot as plt\n",
    "\n",
    "#fig1 = plot_sfs(sfs1.get_metric_dict(), kind='std_dev')\n",
    "\n",
    "#plt.title('Sequential Forward Selection (w. StdDev)')\n",
    "#plt.grid()\n",
    "#plt.show()"
   ]
  },
  {
   "cell_type": "code",
   "execution_count": 40,
   "metadata": {
    "scrolled": false
   },
   "outputs": [
    {
     "data": {
      "image/png": "[encoded data removed]",
      "text/plain": [
       "<Figure size 432x288 with 1 Axes>"
      ]
     },
     "metadata": {
      "needs_background": "light"
     },
     "output_type": "display_data"
    },
    {
     "name": "stdout",
     "output_type": "stream",
     "text": [
      "No of features= 5\n",
      "[1, 10, 11, 12, 13]\n",
      "Features selected in forward fit\n",
      "Index(['1stD Offense', 'TO Defense', 'Offense', 'Defense', 'Sp. Tms'], dtype='object')\n"
     ]
    }
   ],
   "source": [
    "fig1 = plot_sfs(sfs1.get_metric_dict(), kind='std_err')\n",
    "plt.title('Sequential Forward Selection w/ 16 Features (w. StdErr)')\n",
    "plt.grid()\n",
    "plt.show()\n",
    "\n",
    "print (\"No of features=\",idx)\n",
    "#Get the features indices for the best forward fit and convert to list\n",
    "b=list(a[idx]['feature_idx'])\n",
    "print(b)\n",
    "# Index the column names. \n",
    "# Features from forward fit\n",
    "print(\"Features selected in forward fit\")\n",
    "print(X.columns[b])\n",
    "\n"
   ]
  },
  {
   "cell_type": "code",
   "execution_count": 41,
   "metadata": {},
   "outputs": [
    {
     "data": {
      "image/png": "[encoded data removed]",
      "text/plain": [
       "<Figure size 432x288 with 1 Axes>"
      ]
     },
     "metadata": {
      "needs_background": "light"
     },
     "output_type": "display_data"
    },
    {
     "name": "stdout",
     "output_type": "stream",
     "text": [
      "No of features= 5\n",
      "[0, 9, 10, 11, 12]\n",
      "Features selected in forward fit\n",
      "Index(['OppScore', 'RushY Defense', 'TO Defense', 'Offense', 'Defense'], dtype='object')\n"
     ]
    }
   ],
   "source": [
    "# https://www.r-bloggers.com/2017/10/practical-machine-learning-with-r-and-python-part-3/\n",
    "a=sfs1.get_metric_dict()\n",
    "n=[]\n",
    "o=[]\n",
    "# Compute the mean cross validation scores\n",
    "for i in np.arange(1,13):\n",
    "    n.append(-np.mean(a[i]['cv_scores']))  \n",
    "    \n",
    "m=np.arange(1,13)\n",
    "\n",
    "# Get the index of the minimum CV score\n",
    "# Plot the CV scores vs the number of features\n",
    "fig1=plt.plot(m,n)\n",
    "fig1=plt.title('Mean CV Scores vs Number of features BUCCS')\n",
    "fig1.figure.savefig('fig1.png', bbox_inches='tight')\n",
    "plt.grid()\n",
    "plt.show()\n",
    "\n",
    "\n",
    "#print(pd.DataFrame.from_dict(sfs1.get_metric_dict(confidence_interval=0.90)).T)\n",
    "idx = np.argmin(n)\n",
    "\n",
    "print (\"No of features=\",idx)\n",
    "#Get the features indices for the best forward fit and convert to list\n",
    "b=list(a[idx]['feature_idx'])\n",
    "print(b)\n",
    "# Index the column names. \n",
    "# Features from forward fit\n",
    "print(\"Features selected in forward fit\")\n",
    "print(X.columns[b])\n",
    "\n",
    "# the table shows avgs for features, 10 fold CV errors\n",
    "# the graph shows us that at 6 features we have the kowers mean CV error"
   ]
  },
  {
   "cell_type": "markdown",
   "metadata": {},
   "source": [
    "### ETS for X inputs"
   ]
  },
  {
   "cell_type": "code",
   "execution_count": 42,
   "metadata": {},
   "outputs": [],
   "source": [
    "#corr = TB.corr()\n",
    "#g = sns.heatmap(corr,  vmax=.3, center=0,\n",
    "            #square=True, linewidths=1, cbar_kws={\"shrink\": .5}, annot=True, fmt='.2f', cmap='PuOr')\n",
    "#sns.despine()\n",
    "#g.figure.set_size_inches(10,10)\n",
    "    \n",
    "#plt.show()"
   ]
  },
  {
   "cell_type": "code",
   "execution_count": 43,
   "metadata": {},
   "outputs": [],
   "source": [
    "X_LR = X.iloc[:,[0, 9, 10, 11, 12]]\n",
    "y_LR = y\n",
    "#X_LR"
   ]
  },
  {
   "cell_type": "code",
   "execution_count": 44,
   "metadata": {},
   "outputs": [
    {
     "name": "stderr",
     "output_type": "stream",
     "text": [
      "/opt/anaconda3/lib/python3.8/site-packages/statsmodels/tsa/holtwinters/model.py:427: FutureWarning: After 0.13 initialization must be handled at model creation\n",
      "  warnings.warn(\n"
     ]
    }
   ],
   "source": [
    "etspred_TB = pd.DataFrame()\n",
    "\n",
    "for i in X_LR:\n",
    "    X = X_LR[i]\n",
    "    model = SimpleExpSmoothing(np.asarray(X))\n",
    "    fit = model.fit()\n",
    "    fit = fit.forecast(1)\n",
    "    etspred_TB[i] = fit\n",
    "\n",
    "for i in etspred_TB:\n",
    "    etspred_TB[i] = round(etspred_TB[i])\n",
    "    \n",
    "\n",
    "    "
   ]
  },
  {
   "cell_type": "code",
   "execution_count": 46,
   "metadata": {
    "scrolled": false
   },
   "outputs": [
    {
     "data": {
      "text/html": [
       "<div>\n",
       "<style scoped>\n",
       "    .dataframe tbody tr th:only-of-type {\n",
       "        vertical-align: middle;\n",
       "    }\n",
       "\n",
       "    .dataframe tbody tr th {\n",
       "        vertical-align: top;\n",
       "    }\n",
       "\n",
       "    .dataframe thead th {\n",
       "        text-align: right;\n",
       "    }\n",
       "</style>\n",
       "<table border=\"1\" class=\"dataframe\">\n",
       "  <thead>\n",
       "    <tr style=\"text-align: right;\">\n",
       "      <th></th>\n",
       "      <th>Week</th>\n",
       "      <th>OppScore</th>\n",
       "      <th>RushY Defense</th>\n",
       "      <th>TO Defense</th>\n",
       "      <th>Offense</th>\n",
       "      <th>Defense</th>\n",
       "    </tr>\n",
       "  </thead>\n",
       "  <tbody>\n",
       "    <tr>\n",
       "      <th>0</th>\n",
       "      <td>21</td>\n",
       "      <td>23.0</td>\n",
       "      <td>87.0</td>\n",
       "      <td>2.0</td>\n",
       "      <td>8.0</td>\n",
       "      <td>-2.0</td>\n",
       "    </tr>\n",
       "  </tbody>\n",
       "</table>\n",
       "</div>"
      ],
      "text/plain": [
       "   Week  OppScore  RushY Defense  TO Defense  Offense  Defense\n",
       "0    21      23.0           87.0         2.0      8.0     -2.0"
      ]
     },
     "execution_count": 46,
     "metadata": {},
     "output_type": "execute_result"
    }
   ],
   "source": [
    "etspred_TB['Week'] = 21\n",
    "etspred_TB = etspred_TB[[ 'Week', 'OppScore', 'RushY Defense', 'TO Defense', 'Offense', 'Defense']]\n",
    "etspred_TB"
   ]
  },
  {
   "cell_type": "markdown",
   "metadata": {},
   "source": [
    "### Main Model, Tampa Bay Buccaneers"
   ]
  },
  {
   "cell_type": "markdown",
   "metadata": {},
   "source": [
    "### Linear Regression (1)"
   ]
  },
  {
   "cell_type": "code",
   "execution_count": 47,
   "metadata": {},
   "outputs": [],
   "source": [
    "# want to reinclude week in the regression\n",
    "X = buccs.iloc[:,1:17]\n",
    "X_LR = X.iloc[:,[0, 1 ,10, 11, 12, 13]]\n",
    "y_LR = y"
   ]
  },
  {
   "cell_type": "code",
   "execution_count": 48,
   "metadata": {},
   "outputs": [],
   "source": [
    "# create 80% training 20% testing sets do not randomize splits\n",
    "X_train, X_test, y_train, y_test = train_test_split(\n",
    "         X_LR, y_LR, test_size=0.20, random_state=1, shuffle = False)"
   ]
  },
  {
   "cell_type": "code",
   "execution_count": 49,
   "metadata": {},
   "outputs": [
    {
     "data": {
      "text/html": [
       "<table class=\"simpletable\">\n",
       "<caption>OLS Regression Results</caption>\n",
       "<tr>\n",
       "  <th>Dep. Variable:</th>        <td>TeamScore</td>    <th>  R-squared (uncentered):</th>      <td>   0.985</td>\n",
       "</tr>\n",
       "<tr>\n",
       "  <th>Model:</th>                   <td>OLS</td>       <th>  Adj. R-squared (uncentered):</th> <td>   0.982</td>\n",
       "</tr>\n",
       "<tr>\n",
       "  <th>Method:</th>             <td>Least Squares</td>  <th>  F-statistic:       </th>          <td>   375.2</td>\n",
       "</tr>\n",
       "<tr>\n",
       "  <th>Date:</th>             <td>Sat, 06 Feb 2021</td> <th>  Prob (F-statistic):</th>          <td>1.43e-29</td>\n",
       "</tr>\n",
       "<tr>\n",
       "  <th>Time:</th>                 <td>10:41:05</td>     <th>  Log-Likelihood:    </th>          <td> -107.73</td>\n",
       "</tr>\n",
       "<tr>\n",
       "  <th>No. Observations:</th>      <td>    40</td>      <th>  AIC:               </th>          <td>   227.5</td>\n",
       "</tr>\n",
       "<tr>\n",
       "  <th>Df Residuals:</th>          <td>    34</td>      <th>  BIC:               </th>          <td>   237.6</td>\n",
       "</tr>\n",
       "<tr>\n",
       "  <th>Df Model:</th>              <td>     6</td>      <th>                     </th>              <td> </td>   \n",
       "</tr>\n",
       "<tr>\n",
       "  <th>Covariance Type:</th>      <td>nonrobust</td>    <th>                     </th>              <td> </td>   \n",
       "</tr>\n",
       "</table>\n",
       "<table class=\"simpletable\">\n",
       "<tr>\n",
       "        <td></td>           <th>coef</th>     <th>std err</th>      <th>t</th>      <th>P>|t|</th>  <th>[0.025</th>    <th>0.975]</th>  \n",
       "</tr>\n",
       "<tr>\n",
       "  <th>Week</th>          <td>   -0.0933</td> <td>    0.139</td> <td>   -0.672</td> <td> 0.506</td> <td>   -0.376</td> <td>    0.189</td>\n",
       "</tr>\n",
       "<tr>\n",
       "  <th>OppScore</th>      <td>    0.7986</td> <td>    0.054</td> <td>   14.850</td> <td> 0.000</td> <td>    0.689</td> <td>    0.908</td>\n",
       "</tr>\n",
       "<tr>\n",
       "  <th>RushY Defense</th> <td>    0.0007</td> <td>    0.015</td> <td>    0.047</td> <td> 0.963</td> <td>   -0.029</td> <td>    0.031</td>\n",
       "</tr>\n",
       "<tr>\n",
       "  <th>TO Defense</th>    <td>    2.2738</td> <td>    0.605</td> <td>    3.755</td> <td> 0.001</td> <td>    1.043</td> <td>    3.504</td>\n",
       "</tr>\n",
       "<tr>\n",
       "  <th>Offense</th>       <td>    0.8293</td> <td>    0.062</td> <td>   13.365</td> <td> 0.000</td> <td>    0.703</td> <td>    0.955</td>\n",
       "</tr>\n",
       "<tr>\n",
       "  <th>Defense</th>       <td>    0.5908</td> <td>    0.083</td> <td>    7.125</td> <td> 0.000</td> <td>    0.422</td> <td>    0.759</td>\n",
       "</tr>\n",
       "</table>\n",
       "<table class=\"simpletable\">\n",
       "<tr>\n",
       "  <th>Omnibus:</th>       <td> 7.200</td> <th>  Durbin-Watson:     </th> <td>   1.724</td>\n",
       "</tr>\n",
       "<tr>\n",
       "  <th>Prob(Omnibus):</th> <td> 0.027</td> <th>  Jarque-Bera (JB):  </th> <td>   5.886</td>\n",
       "</tr>\n",
       "<tr>\n",
       "  <th>Skew:</th>          <td>-0.850</td> <th>  Prob(JB):          </th> <td>  0.0527</td>\n",
       "</tr>\n",
       "<tr>\n",
       "  <th>Kurtosis:</th>      <td> 3.800</td> <th>  Cond. No.          </th> <td>    106.</td>\n",
       "</tr>\n",
       "</table><br/><br/>Notes:<br/>[1] R² is computed without centering (uncentered) since the model does not contain a constant.<br/>[2] Standard Errors assume that the covariance matrix of the errors is correctly specified."
      ],
      "text/plain": [
       "<class 'statsmodels.iolib.summary.Summary'>\n",
       "\"\"\"\n",
       "                                 OLS Regression Results                                \n",
       "=======================================================================================\n",
       "Dep. Variable:              TeamScore   R-squared (uncentered):                   0.985\n",
       "Model:                            OLS   Adj. R-squared (uncentered):              0.982\n",
       "Method:                 Least Squares   F-statistic:                              375.2\n",
       "Date:                Sat, 06 Feb 2021   Prob (F-statistic):                    1.43e-29\n",
       "Time:                        10:41:05   Log-Likelihood:                         -107.73\n",
       "No. Observations:                  40   AIC:                                      227.5\n",
       "Df Residuals:                      34   BIC:                                      237.6\n",
       "Df Model:                           6                                                  \n",
       "Covariance Type:            nonrobust                                                  \n",
       "=================================================================================\n",
       "                    coef    std err          t      P>|t|      [0.025      0.975]\n",
       "---------------------------------------------------------------------------------\n",
       "Week             -0.0933      0.139     -0.672      0.506      -0.376       0.189\n",
       "OppScore          0.7986      0.054     14.850      0.000       0.689       0.908\n",
       "RushY Defense     0.0007      0.015      0.047      0.963      -0.029       0.031\n",
       "TO Defense        2.2738      0.605      3.755      0.001       1.043       3.504\n",
       "Offense           0.8293      0.062     13.365      0.000       0.703       0.955\n",
       "Defense           0.5908      0.083      7.125      0.000       0.422       0.759\n",
       "==============================================================================\n",
       "Omnibus:                        7.200   Durbin-Watson:                   1.724\n",
       "Prob(Omnibus):                  0.027   Jarque-Bera (JB):                5.886\n",
       "Skew:                          -0.850   Prob(JB):                       0.0527\n",
       "Kurtosis:                       3.800   Cond. No.                         106.\n",
       "==============================================================================\n",
       "\n",
       "Notes:\n",
       "[1] R² is computed without centering (uncentered) since the model does not contain a constant.\n",
       "[2] Standard Errors assume that the covariance matrix of the errors is correctly specified.\n",
       "\"\"\""
      ]
     },
     "execution_count": 49,
     "metadata": {},
     "output_type": "execute_result"
    }
   ],
   "source": [
    "model = sm.OLS(y_train,X_train).fit()\n",
    "predictions = model.predict(X_test)\n",
    "\n",
    "model.summary()"
   ]
  },
  {
   "cell_type": "code",
   "execution_count": 56,
   "metadata": {},
   "outputs": [
    {
     "name": "stdout",
     "output_type": "stream",
     "text": [
      "MSE:  10.746688493262514\n",
      "MAPE:  27.490180531165876\n",
      "R_2:  0.9240538892836839\n"
     ]
    }
   ],
   "source": [
    "from sklearn.metrics import mean_squared_error  \n",
    "from sklearn.metrics import r2_score\n",
    "\n",
    "\n",
    "# Calculation of Mean Squared Error (MSE) \n",
    "print(\"MSE: \", mean_squared_error(y_test, predictions) )\n",
    "\n",
    "\n",
    "def MAPE(Y_actual,Y_Predicted):\n",
    "    mape = np.mean(np.abs((Y_actual - Y_Predicted)/Y_actual))*100\n",
    "    return mape\n",
    "\n",
    "print(\"MAPE: \", MAPE(y_test, predictions))\n",
    "\n",
    "print(\"R_2: \", r2_score(y_test, predictions))"
   ]
  },
  {
   "cell_type": "markdown",
   "metadata": {},
   "source": [
    "## Final Prediction, Buccs"
   ]
  },
  {
   "cell_type": "code",
   "execution_count": 57,
   "metadata": {},
   "outputs": [
    {
     "data": {
      "text/plain": [
       "0    26.0\n",
       "dtype: float64"
      ]
     },
     "execution_count": 57,
     "metadata": {},
     "output_type": "execute_result"
    }
   ],
   "source": [
    "final_score = model.predict(etspred_TB)\n",
    "round(final_score)"
   ]
  }
 ],
 "metadata": {
  "kernelspec": {
   "display_name": "Python 3",
   "language": "python",
   "name": "python3"
  },
  "language_info": {
   "codemirror_mode": {
    "name": "ipython",
    "version": 3
   },
   "file_extension": ".py",
   "mimetype": "text/x-python",
   "name": "python",
   "nbconvert_exporter": "python",
   "pygments_lexer": "ipython3",
   "version": "3.8.3"
  }
 },
 "nbformat": 4,
 "nbformat_minor": 4
}
