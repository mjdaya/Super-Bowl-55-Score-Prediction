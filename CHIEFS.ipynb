{
 "cells": [
  {
   "cell_type": "code",
   "execution_count": 1,
   "metadata": {},
   "outputs": [],
   "source": [
    "import pandas as pd\n",
    "import numpy as np\n",
    "from sklearn.linear_model import LinearRegression\n",
    "import seaborn as sns\n",
    "import matplotlib.pyplot as plt\n",
    "import statsmodels.api as sm\n",
    "\n",
    "from mlxtend.feature_selection import SequentialFeatureSelector as sfs\n",
    "from mlxtend.plotting import plot_sequential_feature_selection as plot_sfs\n",
    "\n",
    "\n",
    "from statsmodels.tsa.holtwinters import SimpleExpSmoothing\n",
    "from sklearn.model_selection import train_test_split"
   ]
  },
  {
   "cell_type": "markdown",
   "metadata": {},
   "source": [
    "### Data Cleaning "
   ]
  },
  {
   "cell_type": "code",
   "execution_count": 47,
   "metadata": {},
   "outputs": [
    {
     "data": {
      "text/plain": [
       "(55, 18)"
      ]
     },
     "execution_count": 47,
     "metadata": {},
     "output_type": "execute_result"
    }
   ],
   "source": [
    "chiefs = pd.read_csv(\"ChiefsDataComplete_.csv\")\n",
    "chiefs.drop(chiefs.tail(1).index,inplace=True)\n",
    "\n",
    "# drop last row because it's empty, it's what we need to predict values for\n",
    "chiefs.shape"
   ]
  },
  {
   "cell_type": "code",
   "execution_count": 48,
   "metadata": {},
   "outputs": [
    {
     "data": {
      "text/plain": [
       "TeamScore         0\n",
       "Week              0\n",
       "OppScore          0\n",
       "1stD Offense      0\n",
       "TotYd  Offense    0\n",
       "PassY Offense     0\n",
       "RushY Offense     0\n",
       "TO Offense        1\n",
       "1stD Defense      0\n",
       "TotYd Defense     0\n",
       "PassY Defense     0\n",
       "RushY Defense     0\n",
       "TO Defense        2\n",
       "Offense           0\n",
       "Defense           0\n",
       "Sp. Tms           0\n",
       "Season            0\n",
       "Game              0\n",
       "dtype: int64"
      ]
     },
     "execution_count": 48,
     "metadata": {},
     "output_type": "execute_result"
    }
   ],
   "source": [
    "# check for nulls\n",
    "chiefs.isnull().sum()"
   ]
  },
  {
   "cell_type": "code",
   "execution_count": 49,
   "metadata": {},
   "outputs": [],
   "source": [
    "# filling missing values w/ the mean of those columns \n",
    "chiefs['TO Offense'].fillna((chiefs['TO Offense'].mean()), inplace=True)\n",
    "chiefs['TO Defense'].fillna((chiefs['TO Defense'].mean()), inplace=True)\n"
   ]
  },
  {
   "cell_type": "code",
   "execution_count": 50,
   "metadata": {},
   "outputs": [
    {
     "data": {
      "text/plain": [
       "TeamScore         0\n",
       "Week              0\n",
       "OppScore          0\n",
       "1stD Offense      0\n",
       "TotYd  Offense    0\n",
       "PassY Offense     0\n",
       "RushY Offense     0\n",
       "TO Offense        0\n",
       "1stD Defense      0\n",
       "TotYd Defense     0\n",
       "PassY Defense     0\n",
       "RushY Defense     0\n",
       "TO Defense        0\n",
       "Offense           0\n",
       "Defense           0\n",
       "Sp. Tms           0\n",
       "Season            0\n",
       "Game              0\n",
       "dtype: int64"
      ]
     },
     "execution_count": 50,
     "metadata": {},
     "output_type": "execute_result"
    }
   ],
   "source": [
    "chiefs.isnull().sum()"
   ]
  },
  {
   "cell_type": "markdown",
   "metadata": {},
   "source": [
    "## Feature Selection (1)"
   ]
  },
  {
   "cell_type": "code",
   "execution_count": 51,
   "metadata": {},
   "outputs": [
    {
     "data": {
      "text/plain": [
       "(55, 15)"
      ]
     },
     "execution_count": 51,
     "metadata": {},
     "output_type": "execute_result"
    }
   ],
   "source": [
    "X = chiefs.iloc[:,2:17]\n",
    "y = chiefs.TeamScore\n",
    "\n",
    "X.shape"
   ]
  },
  {
   "cell_type": "code",
   "execution_count": 52,
   "metadata": {},
   "outputs": [],
   "source": [
    "from mlxtend.feature_selection import SequentialFeatureSelector as sfs\n",
    "\n",
    "# create Linear Regression Model\n",
    "clf = LinearRegression()\n",
    "\n",
    "# Build step forward feature selection\n",
    "# decided k values based off of standard error plots\n",
    "# k = 16 including all variables\n",
    "sfs1 = sfs(clf,k_features = 15,forward=True,floating=False,scoring='neg_mean_squared_error',cv=5)\n",
    "\n",
    "# Perform SFFS\n",
    "sfs1 = sfs1.fit(X, y)\n",
    "\n",
    "\n"
   ]
  },
  {
   "cell_type": "code",
   "execution_count": 53,
   "metadata": {},
   "outputs": [
    {
     "data": {
      "image/png": "[encoded data removed]",
      "text/plain": [
       "<Figure size 432x288 with 1 Axes>"
      ]
     },
     "metadata": {
      "needs_background": "light"
     },
     "output_type": "display_data"
    },
    {
     "name": "stdout",
     "output_type": "stream",
     "text": [
      "No of features= 6\n",
      "[0, 5, 10, 11, 12, 13]\n",
      "Features selected in forward fit\n",
      "Index(['OppScore', 'TO Offense', 'TO Defense', 'Offense', 'Defense',\n",
      "       'Sp. Tms'],\n",
      "      dtype='object')\n"
     ]
    }
   ],
   "source": [
    "# https://www.r-bloggers.com/2017/10/practical-machine-learning-with-r-and-python-part-3/\n",
    "a=sfs1.get_metric_dict()\n",
    "n=[]\n",
    "o=[]\n",
    "# Compute the mean cross validation scores\n",
    "for i in np.arange(1,13):\n",
    "    n.append(-np.mean(a[i]['cv_scores']))  \n",
    "    \n",
    "m=np.arange(1,13)\n",
    "\n",
    "# Get the index of the minimum CV score\n",
    "# Plot the CV scores vs the number of features\n",
    "fig1=plt.plot(m,n)\n",
    "fig1=plt.title('Mean CV Scores vs Number of features CHIEFS')\n",
    "fig1.figure.savefig('fig1.png', bbox_inches='tight')\n",
    "plt.grid()\n",
    "plt.show()\n",
    "\n",
    "\n",
    "#print(pd.DataFrame.from_dict(sfs1.get_metric_dict(confidence_interval=0.90)).T)\n",
    "idx = np.argmin(n)\n",
    "\n",
    "print (\"No of features=\",idx)\n",
    "#Get the features indices for the best forward fit and convert to list\n",
    "b=list(a[idx]['feature_idx'])\n",
    "print(b)\n",
    "# Index the column names. \n",
    "# Features from forward fit\n",
    "print(\"Features selected in forward fit\")\n",
    "print(X.columns[b])\n",
    "\n",
    "# the table shows avgs for features, 10 fold CV errors\n",
    "# the graph shows us that at 6 features we have the kowers mean CV error"
   ]
  },
  {
   "cell_type": "code",
   "execution_count": 54,
   "metadata": {},
   "outputs": [],
   "source": [
    "#fig1 = plot_sfs(sfs1.get_metric_dict(), kind='std_dev') # high sd = low precision\n",
    "#plt.title('Sequential Forward Selection (w. StdErr)')\n",
    "#plt.grid()\n",
    "#plt.show()\n",
    "\n",
    "# y-axis represents"
   ]
  },
  {
   "cell_type": "code",
   "execution_count": 55,
   "metadata": {},
   "outputs": [],
   "source": [
    "# don't have to do this part but i wanted it to look nicer printed\n",
    "sfs2 = sfs(clf,k_features = 6,forward=True,floating=False,scoring='neg_mean_squared_error',cv=5)\n",
    "\n",
    "# Perform SFFS\n",
    "sfs2 = sfs2.fit(X, y)\n"
   ]
  },
  {
   "cell_type": "code",
   "execution_count": 56,
   "metadata": {},
   "outputs": [
    {
     "name": "stdout",
     "output_type": "stream",
     "text": [
      "Features selected in forward fit:\n",
      "('OppScore', 'TO Offense', 'TO Defense', 'Offense', 'Defense', 'Sp. Tms')\n",
      "(0, 5, 10, 11, 12, 13)\n"
     ]
    }
   ],
   "source": [
    "# Index the column names. \n",
    "# Features from forward fit\n",
    "print(\"Features selected in forward fit:\")\n",
    "print(sfs2.k_feature_names_)\n",
    "print(sfs2.k_feature_idx_)"
   ]
  },
  {
   "cell_type": "markdown",
   "metadata": {},
   "source": [
    "### ETS for X inputs"
   ]
  },
  {
   "cell_type": "code",
   "execution_count": 57,
   "metadata": {},
   "outputs": [
    {
     "data": {
      "text/html": [
       "<div>\n",
       "<style scoped>\n",
       "    .dataframe tbody tr th:only-of-type {\n",
       "        vertical-align: middle;\n",
       "    }\n",
       "\n",
       "    .dataframe tbody tr th {\n",
       "        vertical-align: top;\n",
       "    }\n",
       "\n",
       "    .dataframe thead th {\n",
       "        text-align: right;\n",
       "    }\n",
       "</style>\n",
       "<table border=\"1\" class=\"dataframe\">\n",
       "  <thead>\n",
       "    <tr style=\"text-align: right;\">\n",
       "      <th></th>\n",
       "      <th>OppScore</th>\n",
       "      <th>TO Offense</th>\n",
       "      <th>TO Defense</th>\n",
       "      <th>Offense</th>\n",
       "      <th>Defense</th>\n",
       "      <th>Sp. Tms</th>\n",
       "    </tr>\n",
       "  </thead>\n",
       "  <tbody>\n",
       "    <tr>\n",
       "      <th>0</th>\n",
       "      <td>28.0</td>\n",
       "      <td>0.0</td>\n",
       "      <td>2.0</td>\n",
       "      <td>13.10</td>\n",
       "      <td>-24.31</td>\n",
       "      <td>19.32</td>\n",
       "    </tr>\n",
       "    <tr>\n",
       "      <th>1</th>\n",
       "      <td>37.0</td>\n",
       "      <td>1.0</td>\n",
       "      <td>0.0</td>\n",
       "      <td>27.25</td>\n",
       "      <td>-26.79</td>\n",
       "      <td>10.45</td>\n",
       "    </tr>\n",
       "    <tr>\n",
       "      <th>2</th>\n",
       "      <td>27.0</td>\n",
       "      <td>0.0</td>\n",
       "      <td>0.0</td>\n",
       "      <td>29.69</td>\n",
       "      <td>-19.16</td>\n",
       "      <td>1.56</td>\n",
       "    </tr>\n",
       "    <tr>\n",
       "      <th>3</th>\n",
       "      <td>23.0</td>\n",
       "      <td>0.0</td>\n",
       "      <td>1.0</td>\n",
       "      <td>15.71</td>\n",
       "      <td>-8.63</td>\n",
       "      <td>-2.95</td>\n",
       "    </tr>\n",
       "    <tr>\n",
       "      <th>4</th>\n",
       "      <td>14.0</td>\n",
       "      <td>2.0</td>\n",
       "      <td>5.0</td>\n",
       "      <td>5.01</td>\n",
       "      <td>7.23</td>\n",
       "      <td>2.84</td>\n",
       "    </tr>\n",
       "  </tbody>\n",
       "</table>\n",
       "</div>"
      ],
      "text/plain": [
       "   OppScore  TO Offense  TO Defense  Offense  Defense  Sp. Tms\n",
       "0      28.0         0.0         2.0    13.10   -24.31    19.32\n",
       "1      37.0         1.0         0.0    27.25   -26.79    10.45\n",
       "2      27.0         0.0         0.0    29.69   -19.16     1.56\n",
       "3      23.0         0.0         1.0    15.71    -8.63    -2.95\n",
       "4      14.0         2.0         5.0     5.01     7.23     2.84"
      ]
     },
     "execution_count": 57,
     "metadata": {},
     "output_type": "execute_result"
    }
   ],
   "source": [
    "X_LR = X.iloc[:, [0, 5, 10, 11, 12, 13]]\n",
    "y_LR = y\n",
    "\n",
    "X_LR.head()"
   ]
  },
  {
   "cell_type": "code",
   "execution_count": 58,
   "metadata": {},
   "outputs": [],
   "source": [
    "#corr = TB.corr()\n",
    "#g = sns.heatmap(corr,  vmax=.3, center=0,\n",
    "            #square=True, linewidths=1, cbar_kws={\"shrink\": .5}, annot=True, fmt='.2f', cmap='PuOr')\n",
    "#sns.despine()\n",
    "#g.figure.set_size_inches(10,10)\n",
    "    \n",
    "#plt.show()"
   ]
  },
  {
   "cell_type": "code",
   "execution_count": 59,
   "metadata": {},
   "outputs": [
    {
     "name": "stderr",
     "output_type": "stream",
     "text": [
      "/opt/anaconda3/lib/python3.8/site-packages/statsmodels/tsa/holtwinters/model.py:427: FutureWarning: After 0.13 initialization must be handled at model creation\n",
      "  warnings.warn(\n"
     ]
    }
   ],
   "source": [
    "# create empty data frame that will append all predicted variables to it\n",
    "etspred_KC = pd.DataFrame()\n",
    "\n",
    "# create ETS model for each variable to be considered in the regression above\n",
    "# fit those models and forecast out by one step\n",
    "for i in X_LR:\n",
    "    X = X_LR[i]\n",
    "    model = SimpleExpSmoothing(np.asarray(X))\n",
    "    fit = model.fit()\n",
    "    fit = fit.forecast(1)\n",
    "    etspred_KC[i] = fit\n",
    "\n",
    "# round each number so we have whole numbers only\n",
    "for i in etspred_KC:\n",
    "    etspred_KC[i] = round(etspred_KC[i])\n",
    "    \n",
    "\n",
    "    "
   ]
  },
  {
   "cell_type": "code",
   "execution_count": 60,
   "metadata": {
    "scrolled": false
   },
   "outputs": [
    {
     "data": {
      "text/html": [
       "<div>\n",
       "<style scoped>\n",
       "    .dataframe tbody tr th:only-of-type {\n",
       "        vertical-align: middle;\n",
       "    }\n",
       "\n",
       "    .dataframe tbody tr th {\n",
       "        vertical-align: top;\n",
       "    }\n",
       "\n",
       "    .dataframe thead th {\n",
       "        text-align: right;\n",
       "    }\n",
       "</style>\n",
       "<table border=\"1\" class=\"dataframe\">\n",
       "  <thead>\n",
       "    <tr style=\"text-align: right;\">\n",
       "      <th></th>\n",
       "      <th>Week</th>\n",
       "      <th>OppScore</th>\n",
       "      <th>TO Offense</th>\n",
       "      <th>TO Defense</th>\n",
       "      <th>Offense</th>\n",
       "      <th>Defense</th>\n",
       "      <th>Sp. Tms</th>\n",
       "    </tr>\n",
       "  </thead>\n",
       "  <tbody>\n",
       "    <tr>\n",
       "      <th>0</th>\n",
       "      <td>20</td>\n",
       "      <td>23.0</td>\n",
       "      <td>1.0</td>\n",
       "      <td>2.0</td>\n",
       "      <td>16.0</td>\n",
       "      <td>-6.0</td>\n",
       "      <td>-1.0</td>\n",
       "    </tr>\n",
       "  </tbody>\n",
       "</table>\n",
       "</div>"
      ],
      "text/plain": [
       "   Week  OppScore  TO Offense  TO Defense  Offense  Defense  Sp. Tms\n",
       "0    20      23.0         1.0         2.0     16.0     -6.0     -1.0"
      ]
     },
     "execution_count": 60,
     "metadata": {},
     "output_type": "execute_result"
    }
   ],
   "source": [
    "# set week to 20 \n",
    "etspred_KC['Week'] = 20\n",
    "etspred_KC = etspred_KC[['Week', 'OppScore', 'TO Offense', 'TO Defense', 'Offense', 'Defense', 'Sp. Tms']]\n",
    "etspred_KC\n"
   ]
  },
  {
   "cell_type": "markdown",
   "metadata": {},
   "source": [
    "## Linear Regression (1)"
   ]
  },
  {
   "cell_type": "code",
   "execution_count": 61,
   "metadata": {},
   "outputs": [
    {
     "data": {
      "text/plain": [
       "Index(['Week', 'OppScore', 'TO Offense', 'TO Defense', 'Offense', 'Defense',\n",
       "       'Sp. Tms'],\n",
       "      dtype='object')"
      ]
     },
     "execution_count": 61,
     "metadata": {},
     "output_type": "execute_result"
    }
   ],
   "source": [
    "# want to reinclude week in the regression\n",
    "X = chiefs.iloc[:,1:17]\n",
    "X_LR = X.iloc[:,[0, 1, 6, 11, 12, 13, 14]]\n",
    "y_LR = y\n",
    "X_LR.columns"
   ]
  },
  {
   "cell_type": "code",
   "execution_count": 62,
   "metadata": {},
   "outputs": [],
   "source": [
    "# use training and testing data so we can get some accuracy measures such as R_2 and MSE\n",
    "X_train, X_test, y_train, y_test = train_test_split(\n",
    "         X_LR, y_LR, test_size=0.33, random_state=1)"
   ]
  },
  {
   "cell_type": "code",
   "execution_count": 63,
   "metadata": {},
   "outputs": [],
   "source": [
    "from sklearn.linear_model import LinearRegression\n",
    "\n",
    "# create OLS - Linear regression model on training data\n",
    "model = LinearRegression()\n",
    "\n",
    "model.fit(X_train, y_train)\n",
    "\n",
    "# make predictions w/ testing data\n",
    "predictions = model.predict(X_test)\n",
    "\n",
    "#model.summary()\n",
    "\n",
    "\n"
   ]
  },
  {
   "cell_type": "code",
   "execution_count": 64,
   "metadata": {},
   "outputs": [
    {
     "name": "stdout",
     "output_type": "stream",
     "text": [
      "(0.051951081226269534, 'Week')\n",
      "(0.9144137252055222, 'OppScore')\n",
      "(0.2526524068934593, 'TO Offense')\n",
      "(0.41148357048442574, 'TO Defense')\n",
      "(0.9189547374050214, 'Offense')\n",
      "(0.9387091131892441, 'Defense')\n",
      "(0.8996779643389541, 'Sp. Tms')\n"
     ]
    }
   ],
   "source": [
    "coeff = list(zip(model.coef_, ['Week', 'OppScore', 'TO Offense', 'TO Defense', 'Offense', 'Defense',\n",
    "       'Sp. Tms']))\n",
    "\n",
    "for i in coeff: \n",
    "    print(i)"
   ]
  },
  {
   "cell_type": "code",
   "execution_count": 65,
   "metadata": {
    "scrolled": true
   },
   "outputs": [
    {
     "name": "stdout",
     "output_type": "stream",
     "text": [
      "MSE:  4.3700698494284635\n",
      "MAPE:  6.0665444146096466\n",
      "R_2:  0.9183523850717485\n"
     ]
    }
   ],
   "source": [
    "from sklearn import metrics\n",
    "from sklearn.metrics import r2_score \n",
    "\n",
    "from sklearn.metrics import mean_squared_error  \n",
    "\n",
    "# Calculation of Mean Squared Error (MSE) \n",
    "print(\"MSE: \", mean_squared_error(y_test, predictions) )\n",
    "\n",
    "# calculate MAPE\n",
    "def MAPE(Y_actual,Y_Predicted):\n",
    "    mape = np.mean(np.abs((Y_actual - Y_Predicted)/Y_actual))*100\n",
    "    return mape\n",
    "\n",
    "print(\"MAPE: \", MAPE(y_test, predictions))\n",
    "\n",
    "\n",
    "print(\"R_2: \", r2_score(y_test, predictions))"
   ]
  },
  {
   "cell_type": "code",
   "execution_count": 66,
   "metadata": {},
   "outputs": [
    {
     "data": {
      "text/plain": [
       "32.0"
      ]
     },
     "execution_count": 66,
     "metadata": {},
     "output_type": "execute_result"
    }
   ],
   "source": [
    "final_score = model.predict(etspred_KC)\n",
    "np.round(final_score)[0]"
   ]
  },
  {
   "cell_type": "code",
   "execution_count": null,
   "metadata": {},
   "outputs": [],
   "source": []
  },
  {
   "cell_type": "code",
   "execution_count": null,
   "metadata": {},
   "outputs": [],
   "source": []
  }
 ],
 "metadata": {
  "kernelspec": {
   "display_name": "Python 3",
   "language": "python",
   "name": "python3"
  },
  "language_info": {
   "codemirror_mode": {
    "name": "ipython",
    "version": 3
   },
   "file_extension": ".py",
   "mimetype": "text/x-python",
   "name": "python",
   "nbconvert_exporter": "python",
   "pygments_lexer": "ipython3",
   "version": "3.8.3"
  }
 },
 "nbformat": 4,
 "nbformat_minor": 4
}
